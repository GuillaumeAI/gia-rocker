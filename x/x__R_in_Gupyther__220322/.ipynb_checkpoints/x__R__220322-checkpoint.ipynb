{
 "cells": [
  {
   "cell_type": "markdown",
   "id": "07080ef1-c67f-429a-9483-5f9985372e67",
   "metadata": {},
   "source": [
    "# OQQchose avec R"
   ]
  },
  {
   "cell_type": "code",
   "execution_count": 2,
   "id": "101d748a-992e-46b7-92f3-d9f24105b8e8",
   "metadata": {},
   "outputs": [],
   "source": [
    "ro <- c(1,2,3)"
   ]
  },
  {
   "cell_type": "code",
   "execution_count": 3,
   "id": "6600742d-8769-45e8-9728-c7ca79a25d7f",
   "metadata": {},
   "outputs": [
    {
     "data": {
      "text/html": [
       "<style>\n",
       ".list-inline {list-style: none; margin:0; padding: 0}\n",
       ".list-inline>li {display: inline-block}\n",
       ".list-inline>li:not(:last-child)::after {content: \"\\00b7\"; padding: 0 .5ex}\n",
       "</style>\n",
       "<ol class=list-inline><li>1</li><li>2</li><li>3</li></ol>\n"
      ],
      "text/latex": [
       "\\begin{enumerate*}\n",
       "\\item 1\n",
       "\\item 2\n",
       "\\item 3\n",
       "\\end{enumerate*}\n"
      ],
      "text/markdown": [
       "1. 1\n",
       "2. 2\n",
       "3. 3\n",
       "\n",
       "\n"
      ],
      "text/plain": [
       "[1] 1 2 3"
      ]
     },
     "metadata": {},
     "output_type": "display_data"
    }
   ],
   "source": [
    "ro"
   ]
  },
  {
   "cell_type": "markdown",
   "id": "dabe11f9-87b4-43c0-9ec4-9da4a9dcf0f8",
   "metadata": {},
   "source": [
    "## Name the Column"
   ]
  },
  {
   "cell_type": "code",
   "execution_count": 8,
   "id": "0854010a-bbad-4f2b-bbc5-8f387c4cedd3",
   "metadata": {},
   "outputs": [
    {
     "data": {
      "text/html": [
       "<style>\n",
       ".list-inline {list-style: none; margin:0; padding: 0}\n",
       ".list-inline>li {display: inline-block}\n",
       ".list-inline>li:not(:last-child)::after {content: \"\\00b7\"; padding: 0 .5ex}\n",
       "</style>\n",
       "<ol class=list-inline><li>'colA'</li><li>'colB'</li><li>'colC'</li></ol>\n"
      ],
      "text/latex": [
       "\\begin{enumerate*}\n",
       "\\item 'colA'\n",
       "\\item 'colB'\n",
       "\\item 'colC'\n",
       "\\end{enumerate*}\n"
      ],
      "text/markdown": [
       "1. 'colA'\n",
       "2. 'colB'\n",
       "3. 'colC'\n",
       "\n",
       "\n"
      ],
      "text/plain": [
       "[1] \"colA\" \"colB\" \"colC\""
      ]
     },
     "metadata": {},
     "output_type": "display_data"
    }
   ],
   "source": [
    "roname <- c(\"colA\",\"colB\",\"colC\")\n",
    "roname"
   ]
  },
  {
   "cell_type": "markdown",
   "id": "292b454c-34c5-44fc-a7fd-b248cdcdc75c",
   "metadata": {},
   "source": [
    "### Assign it to the object"
   ]
  },
  {
   "cell_type": "code",
   "execution_count": 11,
   "id": "3898c38f-3662-42c9-a926-7ae5e9cba864",
   "metadata": {},
   "outputs": [],
   "source": [
    "ro <- names(roname) "
   ]
  },
  {
   "cell_type": "code",
   "execution_count": 12,
   "id": "b7e3c058-8c8a-4f34-9044-7494ddac5f81",
   "metadata": {},
   "outputs": [
    {
     "data": {
      "text/html": [
       "<style>\n",
       ".list-inline {list-style: none; margin:0; padding: 0}\n",
       ".list-inline>li {display: inline-block}\n",
       ".list-inline>li:not(:last-child)::after {content: \"\\00b7\"; padding: 0 .5ex}\n",
       "</style>\n",
       "<ol class=list-inline><li>'1'</li><li>'2'</li><li>'3'</li></ol>\n"
      ],
      "text/latex": [
       "\\begin{enumerate*}\n",
       "\\item '1'\n",
       "\\item '2'\n",
       "\\item '3'\n",
       "\\end{enumerate*}\n"
      ],
      "text/markdown": [
       "1. '1'\n",
       "2. '2'\n",
       "3. '3'\n",
       "\n",
       "\n"
      ],
      "text/plain": [
       "[1] \"1\" \"2\" \"3\""
      ]
     },
     "metadata": {},
     "output_type": "display_data"
    }
   ],
   "source": [
    "ro"
   ]
  },
  {
   "cell_type": "code",
   "execution_count": null,
   "id": "1c0c6b18-7f58-47c2-b5d3-69fdde768dad",
   "metadata": {},
   "outputs": [],
   "source": []
  }
 ],
 "metadata": {
  "kernelspec": {
   "display_name": "R",
   "language": "R",
   "name": "ir"
  },
  "language_info": {
   "codemirror_mode": "r",
   "file_extension": ".r",
   "mimetype": "text/x-r-source",
   "name": "R",
   "pygments_lexer": "r",
   "version": "4.1.2"
  }
 },
 "nbformat": 4,
 "nbformat_minor": 5
}
